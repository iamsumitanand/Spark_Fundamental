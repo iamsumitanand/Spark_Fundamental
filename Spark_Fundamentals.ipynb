{
  "nbformat": 4,
  "nbformat_minor": 0,
  "metadata": {
    "colab": {
      "name": "Spark_Fundamentals.ipynb",
      "provenance": [],
      "collapsed_sections": [],
      "authorship_tag": "ABX9TyNysVcN5D4NIsy98OKUPn2M",
      "include_colab_link": true
    },
    "kernelspec": {
      "name": "python3",
      "display_name": "Python 3"
    },
    "language_info": {
      "name": "python"
    }
  },
  "cells": [
    {
      "cell_type": "markdown",
      "metadata": {
        "id": "view-in-github",
        "colab_type": "text"
      },
      "source": [
        "<a href=\"https://colab.research.google.com/github/iamsumitanand/Spark_Fundamental/blob/main/Spark_Fundamentals.ipynb\" target=\"_parent\"><img src=\"https://colab.research.google.com/assets/colab-badge.svg\" alt=\"Open In Colab\"/></a>"
      ]
    },
    {
      "cell_type": "markdown",
      "metadata": {
        "id": "et0dBmRw4L1o"
      },
      "source": [
        "Downloading The Data"
      ]
    },
    {
      "cell_type": "code",
      "metadata": {
        "id": "qX69qhGX3_QS"
      },
      "source": [
        "!wget --no-check-certificate https://cocl.us/BD0211EN_Data(Adress)\n",
        "print(\"Data Downloaded!\")"
      ],
      "execution_count": null,
      "outputs": []
    },
    {
      "cell_type": "markdown",
      "metadata": {
        "id": "f7MAJhCQ4KsX"
      },
      "source": [
        "Unzipping the Data"
      ]
    },
    {
      "cell_type": "code",
      "metadata": {
        "id": "v-vAzWqZ4SFu"
      },
      "source": [
        "!unzip -q -o -d /labs/BD0211EN/BD0211EN_Data(Location)\n",
        "print(\"Data Extracted!\")"
      ],
      "execution_count": null,
      "outputs": []
    },
    {
      "cell_type": "markdown",
      "metadata": {
        "id": "NKFmFxNe4euA"
      },
      "source": [
        "Listing all the extracted files"
      ]
    },
    {
      "cell_type": "code",
      "metadata": {
        "id": "Wx7be8UM4bOH"
      },
      "source": [
        "!ls -1 /labs/BD0211EN/BD0211EN_Data"
      ],
      "execution_count": null,
      "outputs": []
    },
    {
      "cell_type": "markdown",
      "metadata": {
        "id": "HCRYw-LI4wxh"
      },
      "source": [
        "Getting the prerequisites"
      ]
    },
    {
      "cell_type": "code",
      "metadata": {
        "id": "j4GlLBaF4ois"
      },
      "source": [
        "!pip install findspark\n",
        "!pip install pyspark\n",
        "import findspark\n",
        "import pyspark\n",
        "findspark.init()\n",
        "sc = pyspark.SparkContext.getOrCreate()"
      ],
      "execution_count": null,
      "outputs": []
    },
    {
      "cell_type": "markdown",
      "metadata": {
        "id": "VWYRjAtu44yc"
      },
      "source": [
        "Checking Spark Version"
      ]
    },
    {
      "cell_type": "code",
      "metadata": {
        "id": "ziUyv53y4333"
      },
      "source": [
        "sc.version"
      ],
      "execution_count": null,
      "outputs": []
    },
    {
      "cell_type": "markdown",
      "metadata": {
        "id": "-nlFzmkC7Luq"
      },
      "source": [
        "Adding a \"readme\" file to the folder"
      ]
    },
    {
      "cell_type": "code",
      "metadata": {
        "id": "hOSKzGXk7NNR"
      },
      "source": [
        "readme = sc.textFile(\"labs/BD0211EN/BD0211EN_Data\")"
      ],
      "execution_count": null,
      "outputs": []
    },
    {
      "cell_type": "markdown",
      "metadata": {
        "id": "47d83bv58krn"
      },
      "source": [
        "counting the number of words/Counting the number of items in the RDD"
      ]
    },
    {
      "cell_type": "code",
      "metadata": {
        "id": "6OzwOIkj7XSs"
      },
      "source": [
        "readme.count()"
      ],
      "execution_count": null,
      "outputs": []
    },
    {
      "cell_type": "markdown",
      "metadata": {
        "id": "L8wvN6508v6L"
      },
      "source": [
        "printing the first word/First item in RDD"
      ]
    },
    {
      "cell_type": "code",
      "metadata": {
        "id": "7N-btQf_7Zdd"
      },
      "source": [
        "readme.first()"
      ],
      "execution_count": null,
      "outputs": []
    },
    {
      "cell_type": "markdown",
      "metadata": {
        "id": "OBrM3niC86D_"
      },
      "source": [
        "counting lines with 'Spark' in it/transformation to return a new RDD with a subset of the items in the file."
      ]
    },
    {
      "cell_type": "code",
      "metadata": {
        "id": "UrDw-gdS7egu"
      },
      "source": [
        "#This is an transformation \n",
        "linesWithSpark = readme.filter(lambda line: \"Spark\" in line)\n",
        "readme.filter(lambda line: \"Spark\" in line).count()"
      ],
      "execution_count": null,
      "outputs": []
    },
    {
      "cell_type": "markdown",
      "metadata": {
        "id": "pshAohPX9ycF"
      },
      "source": [
        "Lines with most words in it"
      ]
    },
    {
      "cell_type": "code",
      "metadata": {
        "id": "-NeFPwjO7gp8"
      },
      "source": [
        "def max(a, b):\n",
        " if a > b:\n",
        "    return a\n",
        " else:\n",
        "    return b\n",
        "\n",
        "readme.map(lambda line: len(line.split())).reduce(max)"
      ],
      "execution_count": null,
      "outputs": []
    }
  ]
}